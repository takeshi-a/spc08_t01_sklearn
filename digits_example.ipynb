{
 "cells": [
  {
   "cell_type": "markdown",
   "metadata": {},
   "source": [
    "#Talk 1: 「scikit-learnによる機械学習はじめの一歩」\n",
    "\n",
    "##自己紹介\n",
    "\n",
    "###阿久津　剛史\n",
    "\n",
    "    - Start Python Club幹事\n",
    "    - 某メーカー勤務\n",
    "    - Python歴1年半。プログラミングを趣味と実用を兼ねて、勉強中。\n",
    "    - 機械学習ツールを使えるようになることが現在の目標。\n",
    "    - Twitter @akucchan_world\n",
    "\n",
    "###今日やること\n",
    "    - scikit-learnを使った簡単な機械学習の演習   \n",
    "    - 演習1. 手書き文字データセットを用いた機械学習\n",
    "    - 演習2. LFWデータセットを用いた有名人物の顔画像認識\n",
    "###今日やらないこと\n",
    "    - 機械学習の理論の説明\n",
    "    - scikit-learnの詳細な説明"
   ]
  },
  {
   "cell_type": "markdown",
   "metadata": {},
   "source": [
    "##演習1. 手書き文字データセットを用いた機械学習\n",
    "\n",
    "##概要\n",
    "Pythonの機械学習パッケージScikit-learn (sklearn)を利用して、手書き文字の画像認識を行います。<br>\n",
    "sklearnに付属しているデータセットのうち、digitsという手書き文字データを対象に、<br>\n",
    "データセットの一部を訓練データとして、教師あり学習により識別モデルを作成し、<br>\n",
    "残りのデータセットを使ってモデルの予測精度の評価を行います。<br>\n",
    "サポートベクターマシン（SVM）、ナイーブベイズ分類器など複数の機械学習メソッドを適用して、<br>\n",
    "精度と計算時間を比較します。\n",
    "\n",
    "##参考文献\n",
    "[1] scikit-learn documentation (original source)<br>\n",
    "http://scikit-learn.org/stable/auto_examples/classification/plot_digits_classification.html#example-classification-plot-digits-classification-py<br>\n",
    "[2] Willi Richert, Luis Pedro Coelho,『実践機械学習システム』, オライリー・ジャパン<br>\n",
    "http://www.oreilly.co.jp/books/9784873116983/<br>\n",
    "[3] UCI ML Repository, \"Optical Recognition of Handwritten Digits Data Set \"<br>\n",
    "http://archive.ics.uci.edu/ml/datasets/Optical+Recognition+of+Handwritten+Digits<br>\n",
    "[4] Cyrille Rossant,『IPythonデータサイエンスクックブック』, オライリー・ジャパン<br>\n",
    "http://www.oreilly.co.jp/books/9784873117485/"
   ]
  },
  {
   "cell_type": "markdown",
   "metadata": {},
   "source": [
    "##手順\n",
    "1. データのロード\n",
    "2. 分類器の生成\n",
    "3. データの学習（fit）\n",
    "4. データの予測（predict）\n",
    "5. モデルの評価（score）\n",
    "6. デジタル文字画像の識別\n",
    "7. 複数の分類器の比較\n",
    "8. まとめ"
   ]
  },
  {
   "cell_type": "markdown",
   "metadata": {},
   "source": [
    "##1. データのロード\n",
    "###手書き文字データセットdigitsをsklearn.datasetsからロードする\n",
    "- digitsはdict形式のデータ\n",
    "- 8x8 pixelsの白黒画像データで、16段階の濃度表示\n",
    "- オリジナルは5620個のデータ数、sklearn版は1797個\n",
    "\n",
    "詳細はsklearnサイトを参照<br>\n",
    "http://scikit-learn.org/stable/modules/generated/sklearn.datasets.load_digits.html"
   ]
  },
  {
   "cell_type": "code",
   "execution_count": 347,
   "metadata": {
    "collapsed": true
   },
   "outputs": [],
   "source": [
    "#matplotlib, numpyのimportとinline表示\n",
    "import matplotlib.pyplot as plt\n",
    "import numpy as np\n",
    "%matplotlib inline"
   ]
  },
  {
   "cell_type": "code",
   "execution_count": 348,
   "metadata": {
    "collapsed": true
   },
   "outputs": [],
   "source": [
    "# 手書き文字データセットdigits\n",
    "from sklearn.datasets import load_digits\n",
    "digits = load_digits()"
   ]
  },
  {
   "cell_type": "code",
   "execution_count": 349,
   "metadata": {
    "collapsed": false
   },
   "outputs": [
    {
     "data": {
      "text/plain": [
       "dict_keys(['target', 'DESCR', 'images', 'data', 'target_names'])"
      ]
     },
     "execution_count": 349,
     "metadata": {},
     "output_type": "execute_result"
    }
   ],
   "source": [
    "# digitsデータセットの内容\n",
    "digits.keys()"
   ]
  },
  {
   "cell_type": "markdown",
   "metadata": {},
   "source": [
    "###digitsの内容を確認する\n",
    "sklearn.datasetsのサンプルデータは基本的に似た構成\n",
    "- DESCR: データセットの説明\n",
    "- target: ラベル（目的変数）、画像データに対応する手書き文字の真値\n",
    "- target_names: ラベルの呼称、0〜９の数値のリスト\n",
    "- data: 特徴量（説明変数）、1797個の8x8pixelsの濃度データが64個の1次元配列に整列\n",
    "- images: 画像データ、dataを8x8の2次元配列に整列"
   ]
  },
  {
   "cell_type": "code",
   "execution_count": 350,
   "metadata": {
    "collapsed": false
   },
   "outputs": [
    {
     "name": "stdout",
     "output_type": "stream",
     "text": [
      " Optical Recognition of Handwritten Digits Data Set\n",
      "\n",
      "Notes\n",
      "-----\n",
      "Data Set Characteristics:\n",
      "    :Number of Instances: 5620\n",
      "    :Number of Attributes: 64\n",
      "    :Attribute Information: 8x8 image of integer pixels in the range 0..16.\n",
      "    :Missing Attribute Values: None\n",
      "    :Creator: E. Alpaydin (alpaydin '@' boun.edu.tr)\n",
      "    :Date: July; 1998\n",
      "\n",
      "This is a copy of the test set of the UCI ML hand-written digits datasets\n",
      "http://archive.ics.uci.edu/ml/datasets/Optical+Recognition+of+Handwritten+Digits\n",
      "\n",
      "The data set contains images of hand-written digits: 10 classes where\n",
      "each class refers to a digit.\n",
      "\n",
      "Preprocessing programs made available by NIST were used to extract\n",
      "normalized bitmaps of handwritten digits from a preprinted form. From a\n",
      "total of 43 people, 30 contributed to the training set and different 13\n",
      "to the test set. 32x32 bitmaps are divided into nonoverlapping blocks of\n",
      "4x4 and the number of on pixels are counted in each block. This generates\n",
      "an input matrix of 8x8 where each element is an integer in the range\n",
      "0..16. This reduces dimensionality and gives invariance to small\n",
      "distortions.\n",
      "\n",
      "For info on NIST preprocessing routines, see M. D. Garris, J. L. Blue, G.\n",
      "T. Candela, D. L. Dimmick, J. Geist, P. J. Grother, S. A. Janet, and C.\n",
      "L. Wilson, NIST Form-Based Handprint Recognition System, NISTIR 5469,\n",
      "1994.\n",
      "\n",
      "References\n",
      "----------\n",
      "  - C. Kaynak (1995) Methods of Combining Multiple Classifiers and Their\n",
      "    Applications to Handwritten Digit Recognition, MSc Thesis, Institute of\n",
      "    Graduate Studies in Science and Engineering, Bogazici University.\n",
      "  - E. Alpaydin, C. Kaynak (1998) Cascading Classifiers, Kybernetika.\n",
      "  - Ken Tang and Ponnuthurai N. Suganthan and Xi Yao and A. Kai Qin.\n",
      "    Linear dimensionalityreduction using relevance weighted LDA. School of\n",
      "    Electrical and Electronic Engineering Nanyang Technological University.\n",
      "    2005.\n",
      "  - Claudio Gentile. A New Approximate Maximal Margin Classification\n",
      "    Algorithm. NIPS. 2000.\n",
      "\n"
     ]
    }
   ],
   "source": [
    "# digits.DESCR\n",
    "# データセットの説明\n",
    "print(digits.DESCR)"
   ]
  },
  {
   "cell_type": "code",
   "execution_count": 351,
   "metadata": {
    "collapsed": false
   },
   "outputs": [
    {
     "name": "stdout",
     "output_type": "stream",
     "text": [
      "(1797, 64)\n"
     ]
    }
   ],
   "source": [
    "# digits.data\n",
    "# 1次元配列にした画像データ\n",
    "# データ数：1797\n",
    "# 特徴量の次元：8x8pixels、16段階のグレイスケールで１次元配列なので64\n",
    "print(digits.data.shape)"
   ]
  },
  {
   "cell_type": "code",
   "execution_count": 352,
   "metadata": {
    "collapsed": false
   },
   "outputs": [
    {
     "name": "stdout",
     "output_type": "stream",
     "text": [
      "number of datasets: 1797\n"
     ]
    }
   ],
   "source": [
    "# digit.images\n",
    "# 8x8の２次元配列になった画像データ\n",
    "# データ数：1797個。\n",
    "n_samples = len(digits.images)\n",
    "print(\"number of datasets:\", n_samples)"
   ]
  },
  {
   "cell_type": "code",
   "execution_count": 353,
   "metadata": {
    "collapsed": false
   },
   "outputs": [
    {
     "name": "stdout",
     "output_type": "stream",
     "text": [
      "[[  0.   0.   5.  13.   9.   1.   0.   0.]\n",
      " [  0.   0.  13.  15.  10.  15.   5.   0.]\n",
      " [  0.   3.  15.   2.   0.  11.   8.   0.]\n",
      " [  0.   4.  12.   0.   0.   8.   8.   0.]\n",
      " [  0.   5.   8.   0.   0.   9.   8.   0.]\n",
      " [  0.   4.  11.   0.   1.  12.   7.   0.]\n",
      " [  0.   2.  14.   5.  10.  12.   0.   0.]\n",
      " [  0.   0.   6.  13.  10.   0.   0.   0.]]\n"
     ]
    }
   ],
   "source": [
    "# 8x8 pixelの手書き文字データ。0〜15で濃度を表現。\n",
    "image = digits.images[0]\n",
    "print(image)"
   ]
  },
  {
   "cell_type": "code",
   "execution_count": 354,
   "metadata": {
    "collapsed": false
   },
   "outputs": [
    {
     "name": "stdout",
     "output_type": "stream",
     "text": [
      "[[  0.   0.   5.  13.   9.   1.   0.   0.]\n",
      " [  0.   0.  13.  15.  10.  15.   5.   0.]\n",
      " [  0.   3.  15.   2.   0.  11.   8.   0.]\n",
      " [  0.   4.  12.   0.   0.   8.   8.   0.]\n",
      " [  0.   5.   8.   0.   0.   9.   8.   0.]\n",
      " [  0.   4.  11.   0.   1.  12.   7.   0.]\n",
      " [  0.   2.  14.   5.  10.  12.   0.   0.]\n",
      " [  0.   0.   6.  13.  10.   0.   0.   0.]]\n"
     ]
    }
   ],
   "source": [
    "#digits.data[0]を8x8にreshapeすると同じデータになる\n",
    "print(digits.data[0].reshape(8,8))"
   ]
  },
  {
   "cell_type": "code",
   "execution_count": 355,
   "metadata": {
    "collapsed": false
   },
   "outputs": [
    {
     "name": "stdout",
     "output_type": "stream",
     "text": [
      "0\n"
     ]
    }
   ],
   "source": [
    "# digits.target\n",
    "# 手書き文字画像の真の値。digits.imagesと同じ順に並ぶ。\n",
    "label = digits.target[0]\n",
    "print(label)"
   ]
  },
  {
   "cell_type": "code",
   "execution_count": 356,
   "metadata": {
    "collapsed": false
   },
   "outputs": [
    {
     "data": {
      "image/png": "[encoded data removed]",
      "text/plain": [
       "<matplotlib.figure.Figure at 0x10c008438>"
      ]
     },
     "metadata": {},
     "output_type": "display_data"
    }
   ],
   "source": [
    "# digits.imagesの1つ目のデータを表示\n",
    "plt.subplot(111)\n",
    "plt.xticks()\n",
    "plt.yticks()\n",
    "plt.imshow(image, cmap=plt.cm.gray_r, interpolation='nearest')\n",
    "plt.title('Label: %i' % label)\n",
    "plt.show()"
   ]
  },
  {
   "cell_type": "code",
   "execution_count": 357,
   "metadata": {
    "collapsed": false
   },
   "outputs": [
    {
     "data": {
      "image/png": "[encoded data removed]",
      "text/plain": [
       "<matplotlib.figure.Figure at 0x10bb7e5c0>"
      ]
     },
     "metadata": {},
     "output_type": "display_data"
    }
   ],
   "source": [
    "# 最初の10サンプルを描画\n",
    "# digits.images[i] : i番目の画像データ（8x8ピクセル）\n",
    "# digits.target[i] : i番目の画像データのクラス（数字なので0-9）\n",
    "for index, (image, label) in enumerate(zip(digits.images[:10], digits.target[:10])):\n",
    "    plt.subplot(2, 5, index + 1)\n",
    "    plt.axis('off')\n",
    "    plt.imshow(image, cmap=plt.cm.gray_r, interpolation='nearest')\n",
    "    plt.title('Label: %i' % label)"
   ]
  },
  {
   "cell_type": "markdown",
   "metadata": {},
   "source": [
    "##2. 分類器の生成\n",
    "###sklearnパッケージに含まれている分類器のインスタンスを生成する"
   ]
  },
  {
   "cell_type": "code",
   "execution_count": 358,
   "metadata": {
    "collapsed": true
   },
   "outputs": [],
   "source": [
    "# sklearnパッケージから5種の分類器をimportする\n",
    "from sklearn.svm import SVC #サポートベクターマシン\n",
    "from sklearn.neighbors import KNeighborsClassifier #k近傍法\n",
    "from sklearn.naive_bayes import GaussianNB #ガウシアンナイーブベイズ\n",
    "from sklearn.ensemble import AdaBoostClassifier #Adaboost\n",
    "from sklearn.ensemble import RandomForestClassifier #ランダムフォレスト\n",
    "\n",
    "# 計算時間測定のためtimeをimportする\n",
    "from time import time"
   ]
  },
  {
   "cell_type": "code",
   "execution_count": 359,
   "metadata": {
    "collapsed": true
   },
   "outputs": [],
   "source": [
    "# サポートベクターマシンの分類器を作成する\n",
    "clf = SVC(gamma=0.001)"
   ]
  },
  {
   "cell_type": "markdown",
   "metadata": {},
   "source": [
    "##3. データの学習（fit）\n",
    "###訓練データで生成した分類器を学習させる"
   ]
  },
  {
   "cell_type": "code",
   "execution_count": 360,
   "metadata": {
    "collapsed": true
   },
   "outputs": [],
   "source": [
    "# 特徴量(data)とラベル（target）をそれぞれ半分に分割し、\n",
    "# 前半を訓練データ、後半をテストデータとする\n",
    "X_train = digits.data[:n_samples / 2]\n",
    "X_test = digits.data[n_samples/2:]\n",
    "y_train = digits.target[:n_samples / 2]\n",
    "y_test = digits.target[n_samples / 2:]"
   ]
  },
  {
   "cell_type": "code",
   "execution_count": 361,
   "metadata": {
    "collapsed": false
   },
   "outputs": [
    {
     "name": "stdout",
     "output_type": "stream",
     "text": [
      "training time: 0.0756 s\n"
     ]
    }
   ],
   "source": [
    "# 文字データ（data）のうち前半を訓練データとして、分類器を学習させる\n",
    "t0 = time()\n",
    "clf.fit(X_train, y_train)\n",
    "t1 = time()\n",
    "t_time = t1-t0\n",
    "print(\"training time:\", round(t_time, 4), \"s\")"
   ]
  },
  {
   "cell_type": "markdown",
   "metadata": {},
   "source": [
    "##4. データの予測（predict）\n",
    "###学習した分類器に対してテストデータを適用して、ラベルを予測する"
   ]
  },
  {
   "cell_type": "code",
   "execution_count": 362,
   "metadata": {
    "collapsed": false
   },
   "outputs": [],
   "source": [
    "# 文字データ（data）の残り半分をテストデータとして、作成したモデルで予測する\n",
    "pred = clf.predict(X_test)"
   ]
  },
  {
   "cell_type": "markdown",
   "metadata": {},
   "source": [
    "##5. モデルの評価（score）\n",
    "###予測した値とテストデータの真値を比較して、モデルの精度を評価する"
   ]
  },
  {
   "cell_type": "code",
   "execution_count": 363,
   "metadata": {
    "collapsed": false
   },
   "outputs": [
    {
     "name": "stdout",
     "output_type": "stream",
     "text": [
      "accuracy: 0.9689\n"
     ]
    }
   ],
   "source": [
    "# scoreメソッドで予測の精度を評価する\n",
    "acc = clf.score(X_test, y_test)\n",
    "print(\"accuracy: %.4f\" % acc)"
   ]
  },
  {
   "cell_type": "code",
   "execution_count": 364,
   "metadata": {
    "collapsed": false
   },
   "outputs": [
    {
     "name": "stdout",
     "output_type": "stream",
     "text": [
      "Classification report for classifier SVC(C=1.0, cache_size=200, class_weight=None, coef0=0.0, degree=3,\n",
      "  gamma=0.001, kernel='rbf', max_iter=-1, probability=False,\n",
      "  random_state=None, shrinking=True, tol=0.001, verbose=False):\n",
      "             precision    recall  f1-score   support\n",
      "\n",
      "          0       1.00      0.99      0.99        88\n",
      "          1       0.99      0.97      0.98        91\n",
      "          2       0.99      0.99      0.99        86\n",
      "          3       0.98      0.87      0.92        91\n",
      "          4       0.99      0.96      0.97        92\n",
      "          5       0.95      0.97      0.96        91\n",
      "          6       0.99      0.99      0.99        91\n",
      "          7       0.96      0.99      0.97        89\n",
      "          8       0.94      1.00      0.97        88\n",
      "          9       0.93      0.98      0.95        92\n",
      "\n",
      "avg / total       0.97      0.97      0.97       899\n",
      "\n",
      "\n"
     ]
    }
   ],
   "source": [
    "# Classification report\n",
    "# 分類器のパラメータと結果を表示する\n",
    "from sklearn.metrics import classification_report\n",
    "print(\"Classification report for classifier %s:\\n%s\\n\"\n",
    "      % (clf, classification_report(y_test, pred)))"
   ]
  },
  {
   "cell_type": "code",
   "execution_count": 365,
   "metadata": {
    "collapsed": false
   },
   "outputs": [
    {
     "name": "stdout",
     "output_type": "stream",
     "text": [
      "Confusion matrix:\n",
      "[[87  0  0  0  1  0  0  0  0  0]\n",
      " [ 0 88  1  0  0  0  0  0  1  1]\n",
      " [ 0  0 85  1  0  0  0  0  0  0]\n",
      " [ 0  0  0 79  0  3  0  4  5  0]\n",
      " [ 0  0  0  0 88  0  0  0  0  4]\n",
      " [ 0  0  0  0  0 88  1  0  0  2]\n",
      " [ 0  1  0  0  0  0 90  0  0  0]\n",
      " [ 0  0  0  0  0  1  0 88  0  0]\n",
      " [ 0  0  0  0  0  0  0  0 88  0]\n",
      " [ 0  0  0  1  0  1  0  0  0 90]]\n"
     ]
    }
   ],
   "source": [
    "# Confusion matrix\n",
    "# 分類結果をマトリクスで表示する\n",
    "from sklearn.metrics import confusion_matrix\n",
    "print(\"Confusion matrix:\\n%s\" % confusion_matrix(y_test, pred))"
   ]
  },
  {
   "cell_type": "code",
   "execution_count": 366,
   "metadata": {
    "collapsed": false
   },
   "outputs": [
    {
     "data": {
      "image/png": "[encoded data removed]",
      "text/plain": [
       "<matplotlib.figure.Figure at 0x10c302278>"
      ]
     },
     "metadata": {},
     "output_type": "display_data"
    }
   ],
   "source": [
    "images_and_predictions = list(zip(digits.images[n_samples / 2:], pred))\n",
    "for index, (image, prediction) in enumerate(images_and_predictions[:10]):\n",
    "    plt.subplot(2, 5, index + 1)\n",
    "    plt.axis('off')\n",
    "    plt.imshow(image, cmap=plt.cm.gray_r, interpolation='nearest')\n",
    "    plt.title('Pred: %i\\nLabel: %i' % (prediction, digits.target[n_samples / 2 + index]))\n",
    "#     'predicted: %s\\ntrue:      %s' % (pred_name, true_name)"
   ]
  },
  {
   "cell_type": "code",
   "execution_count": 367,
   "metadata": {
    "collapsed": false
   },
   "outputs": [
    {
     "data": {
      "text/html": [
       "<div>\n",
       "<table border=\"1\" class=\"dataframe\">\n",
       "  <thead>\n",
       "    <tr style=\"text-align: right;\">\n",
       "      <th></th>\n",
       "      <th>accuracy</th>\n",
       "      <th>t_time</th>\n",
       "    </tr>\n",
       "  </thead>\n",
       "  <tbody>\n",
       "    <tr>\n",
       "      <th>SVC</th>\n",
       "      <td>0.968854</td>\n",
       "      <td>0.075602</td>\n",
       "    </tr>\n",
       "  </tbody>\n",
       "</table>\n",
       "</div>"
      ],
      "text/plain": [
       "     accuracy    t_time\n",
       "SVC  0.968854  0.075602"
      ]
     },
     "execution_count": 367,
     "metadata": {},
     "output_type": "execute_result"
    }
   ],
   "source": [
    "# 結果をDataFrameに保管する\n",
    "import pandas as pd\n",
    "result = {'accuracy': acc, 't_time': t_time}\n",
    "df = pd.DataFrame(result, index=['SVC'])\n",
    "df"
   ]
  },
  {
   "cell_type": "markdown",
   "metadata": {},
   "source": [
    "##6. デジタル文字画像の識別\n",
    "###人為的に作成したデジタル文字画像から数値を判別する"
   ]
  },
  {
   "cell_type": "code",
   "execution_count": 368,
   "metadata": {
    "collapsed": false
   },
   "outputs": [
    {
     "name": "stdout",
     "output_type": "stream",
     "text": [
      "[[  0.   0.   0.   0.   0.   0.   0.   0.]\n",
      " [  0.   0.   0.   0.  15.   0.   0.   0.]\n",
      " [  0.   0.   0.  15.  15.   0.   0.   0.]\n",
      " [  0.   0.   0.   0.  15.   0.   0.   0.]\n",
      " [  0.   0.   0.   0.  15.   0.   0.   0.]\n",
      " [  0.   0.   0.   0.  15.   0.   0.   0.]\n",
      " [  0.   0.   0.   0.  15.   0.   0.   0.]\n",
      " [  0.   0.   0.   0.   0.   0.   0.   0.]]\n"
     ]
    }
   ],
   "source": [
    "# \"1\"のデジタル文字画像をnumpy.arrayで作成する\n",
    "one = np.zeros((8,8))\n",
    "one[1:-1, 4] = 15\n",
    "one[2,3] = 15\n",
    "print(one)"
   ]
  },
  {
   "cell_type": "code",
   "execution_count": 369,
   "metadata": {
    "collapsed": false
   },
   "outputs": [
    {
     "data": {
      "image/png": "[encoded data removed]",
      "text/plain": [
       "<matplotlib.figure.Figure at 0x10bf56cf8>"
      ]
     },
     "metadata": {},
     "output_type": "display_data"
    }
   ],
   "source": [
    "# 作成したデジタル文字データoneをmatplotlib.imshowで表示する\n",
    "plt.imshow(one, cmap=plt.cm.gray_r, interpolation='nearest')\n",
    "plt.grid(False)\n",
    "plt.xticks()\n",
    "plt.yticks()\n",
    "plt.title(\"1\")\n",
    "plt.show()"
   ]
  },
  {
   "cell_type": "code",
   "execution_count": 370,
   "metadata": {
    "collapsed": false
   },
   "outputs": [
    {
     "name": "stdout",
     "output_type": "stream",
     "text": [
      "result: 1\n",
      "当たり\n"
     ]
    }
   ],
   "source": [
    "# データoneを分類器にかけて、値を判別する\n",
    "pred_one = clf.predict(one.ravel())\n",
    "print(\"result:\", str(pred_one[0]))\n",
    "if pred_one[0] == 1:\n",
    "    print(\"当たり\")\n",
    "else:\n",
    "    print(\"はずれ\")"
   ]
  },
  {
   "cell_type": "markdown",
   "metadata": {},
   "source": [
    "##7. 複数の分類器の比較\n",
    "計算時間と精度を記録して、表形式で出力する"
   ]
  },
  {
   "cell_type": "code",
   "execution_count": 371,
   "metadata": {
    "collapsed": true
   },
   "outputs": [],
   "source": [
    "# 複数の分類器の略称をキーとして、インスタンス生成のコードを記録する\n",
    "clf_dict = {\n",
    "    'KNN': 'KNeighborsClassifier()',          #k近傍法\n",
    "    'GNB': 'GaussianNB()',                         #ガウシアンナイーブベイズ\n",
    "    'RFC': 'RandomForestClassifier()',     #ランダムフォレスト\n",
    "    'ABC': 'AdaBoostClassifier()'             #AdaBoost\n",
    "}"
   ]
  },
  {
   "cell_type": "code",
   "execution_count": 372,
   "metadata": {
    "collapsed": false
   },
   "outputs": [
    {
     "name": "stdout",
     "output_type": "stream",
     "text": [
      "GNB\n",
      "training time: 0.0058 s\n",
      "accuracy: 0.7842\n",
      "\n",
      "RFC\n",
      "training time: 0.0269 s\n",
      "accuracy: 0.8754\n",
      "\n",
      "ABC\n",
      "training time: 0.1622 s\n",
      "accuracy: 0.2547\n",
      "\n",
      "KNN\n",
      "training time: 0.002 s\n",
      "accuracy: 0.9555\n",
      "\n"
     ]
    }
   ],
   "source": [
    "# forループで4つの分類法を一気に機械学習し、モデルを評価する\n",
    "for key in clf_dict:\n",
    "    print(key)\n",
    "    clf = eval(\"{}\".format(clf_dict[key]))\n",
    "    t0 = time()\n",
    "    clf.fit(X_train, y_train)\n",
    "    t1 = time()\n",
    "    t_time = t1-t0\n",
    "    print(\"training time:\", round(t_time, 4), \"s\")\n",
    "\n",
    "    pred = clf.predict(X_test)\n",
    "    acc = clf.score(X_test, y_test)\n",
    "    df.ix[key]={'accuracy': acc, 't_time': t_time}\n",
    "    print(\"accuracy: %.4f\" % acc)\n",
    "    print()"
   ]
  },
  {
   "cell_type": "markdown",
   "metadata": {},
   "source": [
    "###結果の表示、画像と実際の値の比較"
   ]
  },
  {
   "cell_type": "code",
   "execution_count": 373,
   "metadata": {
    "collapsed": false
   },
   "outputs": [
    {
     "data": {
      "text/html": [
       "<div>\n",
       "<table border=\"1\" class=\"dataframe\">\n",
       "  <thead>\n",
       "    <tr style=\"text-align: right;\">\n",
       "      <th></th>\n",
       "      <th>accuracy</th>\n",
       "      <th>t_time</th>\n",
       "    </tr>\n",
       "  </thead>\n",
       "  <tbody>\n",
       "    <tr>\n",
       "      <th>SVC</th>\n",
       "      <td>0.968854</td>\n",
       "      <td>0.075602</td>\n",
       "    </tr>\n",
       "    <tr>\n",
       "      <th>GNB</th>\n",
       "      <td>0.784205</td>\n",
       "      <td>0.005798</td>\n",
       "    </tr>\n",
       "    <tr>\n",
       "      <th>RFC</th>\n",
       "      <td>0.875417</td>\n",
       "      <td>0.026906</td>\n",
       "    </tr>\n",
       "    <tr>\n",
       "      <th>ABC</th>\n",
       "      <td>0.254727</td>\n",
       "      <td>0.162189</td>\n",
       "    </tr>\n",
       "    <tr>\n",
       "      <th>KNN</th>\n",
       "      <td>0.955506</td>\n",
       "      <td>0.002031</td>\n",
       "    </tr>\n",
       "  </tbody>\n",
       "</table>\n",
       "</div>"
      ],
      "text/plain": [
       "     accuracy    t_time\n",
       "SVC  0.968854  0.075602\n",
       "GNB  0.784205  0.005798\n",
       "RFC  0.875417  0.026906\n",
       "ABC  0.254727  0.162189\n",
       "KNN  0.955506  0.002031"
      ]
     },
     "execution_count": 373,
     "metadata": {},
     "output_type": "execute_result"
    }
   ],
   "source": [
    "df"
   ]
  },
  {
   "cell_type": "markdown",
   "metadata": {},
   "source": [
    "###考察\n",
    "SVC（サポートベクターマシン）の精度が最高、次にKNN（k近傍法）の精度が高い結果となりました。<br>\n",
    "ただしKNNはSVCに比べて、約1/20の時間でモデリングを行っています。<br>\n",
    "SVCは次元が大きくなると、処理時間が長くなる傾向があるので、<br>\n",
    "精度よりも処理のパフォーマンスを求めるのであれば、KNNを利用することもあります。"
   ]
  },
  {
   "cell_type": "markdown",
   "metadata": {},
   "source": [
    "##8. まとめ\n",
    "scikit-learnパッケージに含まれている手書き文字のデータセットdigitsを用いて、<br>\n",
    "教師あり学習の演習を行いました。<br>\n",
    "1. モデルの生成\n",
    "2. 訓練データによる分類器の学習（fit）\n",
    "3. テストデータに対する予測（predict）\n",
    "4. テストデータと予測を比較する評価（score）\n",
    "\n",
    "の基本的な機械学習のプロセスを学びました。<br>\n",
    "機械学習は画像認識に限らず、自然言語処理など幅広い用途に適用されています。<br>"
   ]
  }
 ],
 "metadata": {
  "kernelspec": {
   "display_name": "Python 3",
   "language": "python",
   "name": "python3"
  },
  "language_info": {
   "codemirror_mode": {
    "name": "ipython",
    "version": 3
   },
   "file_extension": ".py",
   "mimetype": "text/x-python",
   "name": "python",
   "nbconvert_exporter": "python",
   "pygments_lexer": "ipython3",
   "version": "3.4.3"
  }
 },
 "nbformat": 4,
 "nbformat_minor": 0
}
